











import matplotlib.pyplot as plt
%matplotlib inline
plt.rcParams['figure.figsize'] = (10, 10)
plt.style.available





plt.style.use('ggplot')








import pandas as pd
import numpy as np

np.random.seed(777)

data = pd.DataFrame({'A':np.random.randn(365).cumsum(),
                    'B':np.random.randn(365).cumsum() + 25,
                    'C':np.random.randn(365).cumsum() - 25}, 
                     index = pd.date_range('1/1/2018', periods = 365))
data.head()





data.plot();











data.plot('A', 'B', kind='scatter');





data.plot.scatter('A', 'C', 
                  c = 'B',
                  s = data['B'],
                  colormap = 'viridis');





ax = data.plot.scatter('A', 'C', 
                        c = 'B',
                        s = data['B'],
                        colormap = 'viridis');
ax.set_aspect('equal')
ax.set_title('Manipulating Pandas plot objects in matplotlib');











# Box Plots
data.plot.box();


# Histograms 
# Setting alpha level to inspect distribution overlap
data.plot.hist(alpha = 0.7); 


# Kernel Density Estimate plots
# Useful for visualizing an estimate of a variable's probability density function. 
data.plot.kde();











iris = pd.read_csv('iris.csv')
iris.head()








pd.plotting.scatter_matrix(iris);











# Set a colormap with 3 colors to show species
colormap = ('skyblue', 'salmon', 'lightgreen')
pd.plotting.parallel_coordinates(iris, 'species', color=colormap);



